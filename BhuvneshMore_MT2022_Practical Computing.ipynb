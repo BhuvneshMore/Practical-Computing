{
 "cells": [
  {
   "cell_type": "markdown",
   "id": "11d79080",
   "metadata": {},
   "source": [
    "# Practical Computing"
   ]
  },
  {
   "cell_type": "markdown",
   "id": "64d9065e",
   "metadata": {},
   "source": [
    "Exercise 1"
   ]
  },
  {
   "cell_type": "code",
   "execution_count": 1,
   "id": "89101306",
   "metadata": {},
   "outputs": [
    {
     "name": "stdout",
     "output_type": "stream",
     "text": [
      "Volume is 9000\n",
      "Area is 2700\n"
     ]
    }
   ],
   "source": [
    "l=30\n",
    "b=20\n",
    "h=15\n",
    "v=l*b*h\n",
    "a=2*((l*h)+(b*h)+(l*b))\n",
    "print(\"Volume is\",v)\n",
    "print(\"Area is\",a)"
   ]
  },
  {
   "cell_type": "markdown",
   "id": "2e1108cd",
   "metadata": {},
   "source": [
    "Exercise 2"
   ]
  },
  {
   "cell_type": "code",
   "execution_count": 2,
   "id": "23102108",
   "metadata": {},
   "outputs": [
    {
     "name": "stdout",
     "output_type": "stream",
     "text": [
      "Volume is 9000\n",
      "Area is 2700\n",
      "Volume is 12000\n",
      "Area is 3400\n",
      "Volume is 15000\n",
      "Area is 4100\n"
     ]
    }
   ],
   "source": [
    "l= [30,40,50]\n",
    "b=20\n",
    "h=15\n",
    "for i in l :\n",
    "    v=i*b*h\n",
    "    a=2*((i*h)+(b*h)+(i*b))\n",
    "    print(\"Volume is\",v)\n",
    "    print(\"Area is\",a)"
   ]
  },
  {
   "cell_type": "markdown",
   "id": "ff152343",
   "metadata": {},
   "source": [
    "Exercise 3"
   ]
  },
  {
   "cell_type": "code",
   "execution_count": 3,
   "id": "35ab1224",
   "metadata": {},
   "outputs": [
    {
     "name": "stderr",
     "output_type": "stream",
     "text": [
      ".\n",
      "----------------------------------------------------------------------\n",
      "Ran 1 test in 0.001s\n",
      "\n",
      "OK\n"
     ]
    }
   ],
   "source": [
    "import unittest\n",
    "\n",
    "class TestDemo(unittest.TestCase):\n",
    "    \"\"\"Example of how to use unittest in Jupyter.\"\"\"\n",
    "    \n",
    "    def test(self):\n",
    "        self.assertEqual('foo'.upper(), 'FOO')  \n",
    "if __name__ == '__main__':\n",
    "    unittest.main(argv=['first-arg-is-ignored'], exit=False)        "
   ]
  },
  {
   "cell_type": "markdown",
   "id": "038cefc0",
   "metadata": {},
   "source": [
    "In this tutorial, we are learn about Unit Testing using the unittest built-in module. \n",
    "Testing plays a major role in software development. We will know the issues before going to the production itself.\n",
    "We learn the basics of testing in Python using the built-in module called unittest.\n",
    "    If you take the login system as an example. Each field in the login form is a unit.\n",
    "    And testing those units functionality is known as Unit Testing.\n",
    "    Above we seen the basic structure of unittest framework.\n",
    "    If you run the above program, you will get the following results.\n",
    "\n",
    "Ran 1 test in 0.001s\n",
    "\n",
    "OK\n",
    "    "
   ]
  },
  {
   "cell_type": "code",
   "execution_count": null,
   "id": "530a4d0d",
   "metadata": {},
   "outputs": [],
   "source": []
  }
 ],
 "metadata": {
  "kernelspec": {
   "display_name": "Python 3",
   "language": "python",
   "name": "python3"
  },
  "language_info": {
   "codemirror_mode": {
    "name": "ipython",
    "version": 3
   },
   "file_extension": ".py",
   "mimetype": "text/x-python",
   "name": "python",
   "nbconvert_exporter": "python",
   "pygments_lexer": "ipython3",
   "version": "3.8.8"
  }
 },
 "nbformat": 4,
 "nbformat_minor": 5
}
